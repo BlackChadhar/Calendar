{
 "cells": [
  {
   "cell_type": "code",
   "execution_count": 67,
   "metadata": {},
   "outputs": [],
   "source": [
    "from googleapiclient.discovery import build\n",
    "from google_auth_oauthlib.flow import InstalledAppFlow\n",
    "from datetime import date\n",
    "from google.auth.transport.requests import Request\n",
    "import os\n",
    "import pickle\n",
    "today=date.today()"
   ]
  },
  {
   "attachments": {},
   "cell_type": "markdown",
   "metadata": {},
   "source": [
    "Credentials For Events"
   ]
  },
  {
   "cell_type": "code",
   "execution_count": 68,
   "metadata": {},
   "outputs": [],
   "source": [
    "def get_credentialscal():\n",
    "    scope= \"https://www.googleapis.com/auth/calendar\"\n",
    "    credentials = None\n",
    "\n",
    "    # If token file exists and is not empty, load credentials from it\n",
    "    if os.path.exists(\"tokencal.pkl\") and os.path.getsize(\"tokencal.pkl\") > 0:\n",
    "        with open(\"tokencal.pkl\", 'rb') as token:\n",
    "            try:\n",
    "                credentials = pickle.load(token)\n",
    "            except (pickle.UnpicklingError, EOFError):\n",
    "                pass\n",
    "\n",
    "    # If there are no (valid) credentials available, let the user sign in\n",
    "    if not credentials or not credentials.valid:\n",
    "        if credentials and credentials.expired and credentials.refresh_token:\n",
    "            credentials.refresh(Request())\n",
    "        else:\n",
    "            flow = InstalledAppFlow.from_client_secrets_file(\"credentialscal.json\", scopes=scope)\n",
    "            credentials = flow.run_local_server(port=0)\n",
    "\n",
    "        # Save the credentials for future use\n",
    "        with open(\"tokencal.pkl\", 'wb') as token:\n",
    "            pickle.dump(credentials, token)\n",
    "\n",
    "    return credentials\n",
    "\n"
   ]
  },
  {
   "attachments": {},
   "cell_type": "markdown",
   "metadata": {},
   "source": [
    "Event Function"
   ]
  },
  {
   "cell_type": "code",
   "execution_count": 69,
   "metadata": {},
   "outputs": [],
   "source": [
    "def events():\n",
    "    scope= \"https://www.googleapis.com/auth/calendar\"\n",
    "    flow= InstalledAppFlow.from_client_secrets_file(\"credentialscal.json\", scopes=scope)\n",
    "    credentials = get_credentialscal()\n",
    "    pickle.dump(credentials, open(\"tokencal.pkl\", \"wb\"))\n",
    "    service= build(\"calendar\", \"v3\", credentials=credentials)\n",
    "    today = date.today()\n",
    "    start_date = str(today) + 'T00:00:00Z'\n",
    "    end_date = str(today) + 'T23:59:59Z'\n",
    "    result=service.calendarList().list().execute()\n",
    "\n",
    "    time_min = start_date  # Start time (inclusive)\n",
    "    time_max = end_date\n",
    "\n",
    "\n",
    "    raw_data=[]\n",
    "    calendar_items = result['items']\n",
    "    num = len(calendar_items)\n",
    "    i = 0\n",
    "    while i < num:\n",
    "        calendar_id = calendar_items[i]['id']\n",
    "\n",
    "        events = service.events().list(calendarId=calendar_id,timeMin=time_min, timeMax=time_max).execute()\n",
    "        upcoming_events = events.get('items', [])\n",
    "        # Print the details of incoming events\n",
    "        for event in upcoming_events:\n",
    "            raw_data.append(event)\n",
    "    \n",
    "        i+=1\n",
    "    \n",
    "    for event in raw_data:\n",
    "        start_datetime = event['start'].get('dateTime', event['start'].get('date'))\n",
    "        end_datetime = event['end'].get('dateTime', event['end'].get('date'))\n",
    "        event_id = event['id']\n",
    "        status = event['status']\n",
    "        summary = event['summary']\n",
    "        event['start']['dateTime']=event['start']['dateTime'][11:-4]\n",
    "        event['end']['dateTime']=event['end']['dateTime'][11:-4]\n",
    "\n",
    "    def sortfn(sub):\n",
    "        return sub['start']['dateTime']\n",
    "    raw_data.sort(key=sortfn)\n",
    "    print(\"You have the following events today:\\n\")\n",
    "    for event in raw_data:\n",
    "        status = event['status']\n",
    "        summary = event['summary']\n",
    "        start_datetime = event[\"start\"][\"dateTime\"]\n",
    "        end_datetime= event[\"end\"][\"dateTime\"]\n",
    "        \n",
    "        print(f\"Summary: {summary}\\nStarting: {start_datetime}\\nEnding: {end_datetime}\\n\")"
   ]
  },
  {
   "attachments": {},
   "cell_type": "markdown",
   "metadata": {},
   "source": [
    "Credentials For Tasks"
   ]
  },
  {
   "cell_type": "code",
   "execution_count": 70,
   "metadata": {},
   "outputs": [],
   "source": [
    "def get_credentialstask():\n",
    "    scope= \"https://www.googleapis.com/auth/tasks\"\n",
    "    credentials = None\n",
    "\n",
    "    # If token file exists and is not empty, load credentials from it\n",
    "    if os.path.exists(\"tokentask.pkl\") and os.path.getsize(\"tokentask.pkl\") > 0:\n",
    "        with open(\"tokentask.pkl\", 'rb') as token:\n",
    "            try:\n",
    "                credentials = pickle.load(token)\n",
    "            except (pickle.UnpicklingError, EOFError):\n",
    "                pass\n",
    "\n",
    "    # If there are no (valid) credentials available, let the user sign in\n",
    "    if not credentials or not credentials.valid:\n",
    "        if credentials and credentials.expired and credentials.refresh_token:\n",
    "            credentials.refresh(Request())\n",
    "        else:\n",
    "            flow = InstalledAppFlow.from_client_secrets_file(\"credentialstask.json\", scopes=scope)\n",
    "            credentials = flow.run_local_server(port=0)\n",
    "\n",
    "        # Save the credentials for future use\n",
    "        with open(\"tokentask.pkl\", 'wb') as token:\n",
    "            pickle.dump(credentials, token)\n",
    "\n",
    "    return credentials"
   ]
  },
  {
   "attachments": {},
   "cell_type": "markdown",
   "metadata": {},
   "source": [
    "Task Function"
   ]
  },
  {
   "cell_type": "code",
   "execution_count": 71,
   "metadata": {},
   "outputs": [],
   "source": [
    "def tasks():\n",
    "    raw_data2=[]\n",
    "    SCOPES = ['https://www.googleapis.com/auth/tasks']\n",
    "    flow = InstalledAppFlow.from_client_secrets_file('credentialstask.json', SCOPES)\n",
    "    credentials = get_credentialstask()\n",
    "    service = build('tasks', 'v1', credentials=credentials)\n",
    "    results = service.tasklists().list().execute()\n",
    "    task_lists = results.get('items', [])\n",
    "\n",
    "    for task_list in task_lists:\n",
    "        print('Task List:', task_list['title'])\n",
    "        tasks = service.tasks().list(tasklist=task_list['id']).execute()\n",
    "        items = tasks.get('items', [])\n",
    "        if not items:\n",
    "            print('No tasks found.')\n",
    "        else:\n",
    "            print('Tasks:\\n')\n",
    "            for task in items:\n",
    "                taskdate=task.get('due')\n",
    "                taskdate=taskdate[:10]\n",
    "                strtoday=str(today)\n",
    "                if taskdate <= strtoday:\n",
    "                    raw_data2.append(task)\n",
    "\n",
    "    def sortfn2(tsl):\n",
    "        newvar = tsl['due']\n",
    "        newvar = newvar[:10]\n",
    "        return newvar\n",
    "    raw_data2.sort(key=sortfn2)\n",
    "    for task in raw_data2:\n",
    "        taskname=task['title']\n",
    "        taskdate=task.get('due')\n",
    "        taskdate=taskdate[:10]\n",
    "        print(taskname)\n",
    "        print(f\"Date: {taskdate}\\n\")"
   ]
  },
  {
   "attachments": {},
   "cell_type": "markdown",
   "metadata": {},
   "source": [
    "Main Call Functions"
   ]
  },
  {
   "cell_type": "code",
   "execution_count": 72,
   "metadata": {},
   "outputs": [
    {
     "name": "stdout",
     "output_type": "stream",
     "text": [
      "You have the following events today:\n",
      "\n",
      "Summary: Test\n",
      "Starting: 09:30\n",
      "Ending: 15:45\n",
      "\n",
      "Summary: Sort\n",
      "Starting: 16:15\n",
      "Ending: 18:30\n",
      "\n",
      "Summary: Blah\n",
      "Starting: 18:00\n",
      "Ending: 00:15\n",
      "\n",
      "Task List: My Tasks\n",
      "Tasks:\n",
      "\n",
      "MORE PAST\n",
      "Date: 2023-06-18\n",
      "\n",
      "Past\n",
      "Date: 2023-06-19\n",
      "\n",
      "PAST\n",
      "Date: 2023-06-20\n",
      "\n",
      "Present\n",
      "Date: 2023-06-21\n",
      "\n",
      "PRESENT\n",
      "Date: 2023-06-21\n",
      "\n"
     ]
    }
   ],
   "source": [
    "events()\n",
    "tasks()"
   ]
  }
 ],
 "metadata": {
  "kernelspec": {
   "display_name": "Python 3",
   "language": "python",
   "name": "python3"
  },
  "language_info": {
   "codemirror_mode": {
    "name": "ipython",
    "version": 3
   },
   "file_extension": ".py",
   "mimetype": "text/x-python",
   "name": "python",
   "nbconvert_exporter": "python",
   "pygments_lexer": "ipython3",
   "version": "3.11.4"
  },
  "orig_nbformat": 4
 },
 "nbformat": 4,
 "nbformat_minor": 2
}
